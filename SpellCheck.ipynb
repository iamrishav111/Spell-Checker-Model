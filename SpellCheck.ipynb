{
  "nbformat": 4,
  "nbformat_minor": 0,
  "metadata": {
    "colab": {
      "name": "SpellCheck.ipynb",
      "provenance": [],
      "include_colab_link": true
    },
    "kernelspec": {
      "name": "python3",
      "display_name": "Python 3"
    }
  },
  "cells": [
    {
      "cell_type": "markdown",
      "metadata": {
        "id": "view-in-github",
        "colab_type": "text"
      },
      "source": [
        "<a href=\"https://colab.research.google.com/github/iamrishav111/Spell-Checker-Model/blob/master/SpellCheck.ipynb\" target=\"_parent\"><img src=\"https://colab.research.google.com/assets/colab-badge.svg\" alt=\"Open In Colab\"/></a>"
      ]
    },
    {
      "cell_type": "code",
      "metadata": {
        "id": "WlGljhQqJUtg",
        "colab_type": "code",
        "colab": {}
      },
      "source": [
        "from google.colab import files\n",
        "\n",
        "uploaded = files.upload()\n",
        "\n",
        "for fn in uploaded.keys():\n",
        "  print('User uploaded file \"{name}\" with length {length} bytes'.format(\n",
        "      name=fn, length=len(uploaded[fn])))"
      ],
      "execution_count": null,
      "outputs": []
    },
    {
      "cell_type": "code",
      "metadata": {
        "id": "da-WQmgMJcR9",
        "colab_type": "code",
        "colab": {}
      },
      "source": [
        "import numpy as np\n",
        "import itertools\n",
        "\n",
        "\n",
        "right = []\n",
        "wrong = []\n",
        "word2dict = {}\n",
        "\n",
        "\n",
        "with open('spell-errors.txt') as f:\n",
        "  for line in f:\n",
        "    right_words = line.split(':')\n",
        "    right.append(right_words[0])\n",
        "    wrong_words = right_words[1].split(',')\n",
        "   \n",
        "    wrong.append(wrong_words)\n",
        "    word2dict[right_words[0]]  = wrong_words\n",
        "\n",
        "alphabet = 'abcdefghijklmnopqrstuvwxyz -'\n",
        "\n",
        "def split(word): \n",
        "    return [char for char in word] "
      ],
      "execution_count": null,
      "outputs": []
    },
    {
      "cell_type": "code",
      "metadata": {
        "id": "HsUNJ5DWLy6Z",
        "colab_type": "code",
        "colab": {}
      },
      "source": [
        "def count(w1):\n",
        "  counter = 0\n",
        "  length = len(w1)\n",
        "  for word in (right+wrong):\n",
        "    for i in range(len(word)-length):\n",
        "      if word[i:i+length] == w1:\n",
        "        counter += 1\n",
        "  return counter"
      ],
      "execution_count": null,
      "outputs": []
    },
    {
      "cell_type": "code",
      "metadata": {
        "id": "93AkmCDML312",
        "colab_type": "code",
        "colab": {}
      },
      "source": [
        "word_dict = {}\n",
        "for i,char in enumerate(alphabet):\n",
        "  word_dict[char] = i\n",
        "  \n",
        "  "
      ],
      "execution_count": null,
      "outputs": []
    },
    {
      "cell_type": "code",
      "metadata": {
        "id": "LxiAkCAeL8Y3",
        "colab_type": "code",
        "colab": {}
      },
      "source": [
        "def edittype(candidate,word):\n",
        "  edit = [False]*4\n",
        "  correct = ''\n",
        "  error = ''\n",
        "  x = ''\n",
        "  y = ''\n",
        "  for i in range(min([len(word),len(candidate)])-1):\n",
        "    if candidate[0:i+1] != word[0:i+1]:\n",
        "      if candidate[i:] == word[i-1:]:\n",
        "        edit[1] = True\n",
        "        x = candidate[i-2]\n",
        "        w = candidate[i-2]+candidate[i-1]\n",
        "        break\n",
        "      elif candidate[i:] == word[i+1:]:\n",
        "        if i == 0:\n",
        "          \n",
        "          w = '_'\n",
        "          x = '_'+word[i]\n",
        "        else:\n",
        "          \n",
        "          w = word[i-1]\n",
        "          x = word[i-1]+word[i]\n",
        "        edit[0] = True\n",
        "        break\n",
        "      if candidate[i+1:] == word[i+1:]:\n",
        "        \n",
        "        edit[2] = True\n",
        "        x = word[i]\n",
        "        w = candidate[i]\n",
        "        break\n",
        "      if candidate[i] == word[i+1] and candidate[i+2:] == word[i+2:]:\n",
        "        \n",
        "        edit[3] = True\n",
        "        w = candidate[i]+candidate[i+1]\n",
        "        x = word[i]+word[i+1]\n",
        "        break   \n",
        "  if word == candidate:\n",
        "    return \"not required\",'',''\n",
        "  if edit[1]:\n",
        "    return \"Deletion\",x,w\n",
        "  elif edit[0]:\n",
        "    return \"Insertion\",x,w\n",
        "  elif edit[2]:\n",
        "    return \"Substitution\",x,w\n",
        "  elif edit[3]:\n",
        "    return \"Reversal\",x,w\n",
        "  else :\n",
        "    return \"not required\",'',''   \n"
      ],
      "execution_count": null,
      "outputs": []
    },
    {
      "cell_type": "code",
      "metadata": {
        "id": "4RUqNrDAMF7n",
        "colab_type": "code",
        "colab": {}
      },
      "source": [
        "sub_matrix = np.zeros((28,28))\n",
        "add_matrix = np.zeros((28,28))\n",
        "del_matrix = np.zeros((28,28))\n",
        "trans_matrix = np.zeros((28,28))\n",
        "\n",
        "def subconfusion_matrix(sub_matrix,x,y):\n",
        "  if x in split(alphabet) and y in split(alphabet):\n",
        "    \n",
        "    sub_matrix[word_dict[x]][word_dict[y]] += 1\n",
        "  \n",
        "  \n",
        "def addconfusion_matrix(add_matrix,x,y):\n",
        "  if x in split(alphabet) and y in split(alphabet):\n",
        "    \n",
        "    add_matrix[word_dict[x]][word_dict[y]] += 1\n",
        "  \n",
        "  \n",
        "def delconfusion_matrix(del_matrix,x,y):\n",
        "  \n",
        "  if x in split(alphabet) and y in split(alphabet):\n",
        "    \n",
        "    del_matrix[word_dict[x]][word_dict[y]] += 1\n",
        "  \n",
        "  \n",
        "  \n",
        "def transconfusion_matrix(trans_matrix,x,y):\n",
        "  if x in split(alphabet) and y in split(alphabet):\n",
        "    \n",
        "    trans_matrix[word_dict[x]][word_dict[y]] += 1"
      ],
      "execution_count": null,
      "outputs": []
    },
    {
      "cell_type": "code",
      "metadata": {
        "id": "rL291atDMccW",
        "colab_type": "code",
        "colab": {}
      },
      "source": [
        "def update(type,x,w):\n",
        "  \n",
        "  if type == 'Deletion':\n",
        "    delconfusion_matrix(del_matrix,w[0],w[1])\n",
        "  elif type == 'Insertion':\n",
        "    addconfusion_matrix(add_matrix,w,x[1])    \n",
        "  elif type == 'Substitution':\n",
        "    subconfusion_matrix(sub_matrix,x,w)    \n",
        "  elif type == 'Reversal':\n",
        "    transconfusion_matrix(trans_matrix,w[0],w[1])  \n",
        "  "
      ],
      "execution_count": null,
      "outputs": []
    },
    {
      "cell_type": "code",
      "metadata": {
        "id": "ON5o7BO8Mg5S",
        "colab_type": "code",
        "colab": {}
      },
      "source": [
        "\n",
        "for right_word in right:\n",
        "  for wrong_word in word2dict[right_word]:\n",
        "    new_wrong_word = wrong_word.lstrip()\n",
        "    wrong_strip = new_wrong_word.strip('\\n')\n",
        "    right_strip = right_word.strip('\\n')\n",
        "    type,x1,w1 = edittype(right_strip,wrong_strip)\n",
        "    update(type,x1,w1)    "
      ],
      "execution_count": null,
      "outputs": []
    },
    {
      "cell_type": "code",
      "metadata": {
        "id": "ESRIF-31MkKd",
        "colab_type": "code",
        "colab": {}
      },
      "source": [
        "print(np.sum(del_matrix),np.sum(sub_matrix),np.sum(add_matrix),np.sum(trans_matrix))"
      ],
      "execution_count": null,
      "outputs": []
    },
    {
      "cell_type": "code",
      "metadata": {
        "id": "V71XvP6RMtUA",
        "colab_type": "code",
        "colab": {}
      },
      "source": [
        "edittype('poetry','peotry')"
      ],
      "execution_count": null,
      "outputs": []
    },
    {
      "cell_type": "code",
      "metadata": {
        "id": "_DnLq0LVMvI8",
        "colab_type": "code",
        "colab": {}
      },
      "source": [
        "edittype('something','somthing')"
      ],
      "execution_count": null,
      "outputs": []
    },
    {
      "cell_type": "code",
      "metadata": {
        "id": "M3cyitLbPSUn",
        "colab_type": "code",
        "colab": {}
      },
      "source": [
        "def edits1(word):\n",
        "   splits     = [(word[:i], word[i:]) for i in range(len(word) + 1)]\n",
        "   deletes    = [a + b[1:] for a, b in splits if b]\n",
        "   transposes = [a + b[1] + b[0] + b[2:] for a, b in splits if len(b)>1]\n",
        "   replaces   = [a + c + b[1:] for a, b in splits for c in alphabet if b]\n",
        "   inserts    = [a + c + b     for a, b in splits for c in alphabet]\n",
        "   return set(deletes + transposes + replaces + inserts)\n",
        "    "
      ],
      "execution_count": null,
      "outputs": []
    },
    {
      "cell_type": "code",
      "metadata": {
        "id": "gT-2HVQdPgJe",
        "colab_type": "code",
        "colab": {}
      },
      "source": [
        "edits1('rishav')"
      ],
      "execution_count": null,
      "outputs": []
    },
    {
      "cell_type": "code",
      "metadata": {
        "id": "QvJdRJFEPs4I",
        "colab_type": "code",
        "colab": {}
      },
      "source": [
        "def known_edits1(word):\n",
        "  return set(e1 for e1 in edits1(word) if e1 in right)"
      ],
      "execution_count": null,
      "outputs": []
    },
    {
      "cell_type": "code",
      "metadata": {
        "id": "MmJOUE96PzF6",
        "colab_type": "code",
        "colab": {}
      },
      "source": [
        "def prob_estimate(candidate_words,error_word):\n",
        "  try:\n",
        "    prob_word = {}\n",
        "    for word in candidate_words:     \n",
        "      type,x,w = edittype(error_word,word)\n",
        " \n",
        "      if type == 'Deletion':\n",
        "        if w[0] in split(alphabet) and w[1] in split(alphabet):\n",
        "          count_num = del_matrix[word_dict[w[0]]][word_dict[w[1]]]\n",
        "          total_count = count(w)\n",
        "        \n",
        "      elif type == 'Insertion':\n",
        "        if x[1] in split(alphabet) and w in split(alphabet):\n",
        "          count_num = add_matrix[word_dict[w]][word_dict[x[1]]]\n",
        "          total_count = count(w)\n",
        "                               \n",
        "      elif type == 'Substitution':\n",
        "        if x in split(alphabet) and w in split(alphabet):\n",
        "          count_num = sub_matrix[word_dict[x]][word_dict[w]] \n",
        "          total_count = count(w)\n",
        "                             \n",
        "      elif type == 'Reversal':\n",
        "        if w[0] in split(alphabet) and w[1] in split(alphabet):\n",
        "          count_num = trans_matrix[word_dict[w[0]]][word_dict[w[1]]]\n",
        "          total_count = count(w)\n",
        "                                 \n",
        "      prob_word[word] = count_num/total_count\n",
        "    return prob_word\n",
        "  except:\n",
        "    print('error occured')\n",
        "  "
      ],
      "execution_count": null,
      "outputs": []
    },
    {
      "cell_type": "code",
      "metadata": {
        "id": "LhTwU_bSQX3L",
        "colab_type": "code",
        "colab": {
          "base_uri": "https://localhost:8080/",
          "height": 34
        },
        "outputId": "42dc9fba-d06e-4359-fd86-66cdc60854bc"
      },
      "source": [
        "known_edits1('sommthing')"
      ],
      "execution_count": null,
      "outputs": [
        {
          "output_type": "execute_result",
          "data": {
            "text/plain": [
              "{'something'}"
            ]
          },
          "metadata": {
            "tags": []
          },
          "execution_count": 29
        }
      ]
    },
    {
      "cell_type": "code",
      "metadata": {
        "id": "2Lkk1EWGQvD5",
        "colab_type": "code",
        "colab": {
          "base_uri": "https://localhost:8080/",
          "height": 34
        },
        "outputId": "a9c8aa3d-d661-48d6-b714-c91739461e9e"
      },
      "source": [
        "prob_estimate(known_edits1('peotry'),'peotry')"
      ],
      "execution_count": null,
      "outputs": [
        {
          "output_type": "execute_result",
          "data": {
            "text/plain": [
              "{'poetry': 0.04878048780487805}"
            ]
          },
          "metadata": {
            "tags": []
          },
          "execution_count": 30
        }
      ]
    },
    {
      "cell_type": "code",
      "metadata": {
        "id": "V4Ns-PyhQ0bo",
        "colab_type": "code",
        "colab": {}
      },
      "source": [
        ""
      ],
      "execution_count": null,
      "outputs": []
    }
  ]
}